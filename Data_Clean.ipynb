{
 "cells": [
  {
   "cell_type": "markdown",
   "metadata": {},
   "source": [
    "## Data Cleaning"
   ]
  },
  {
   "cell_type": "code",
   "execution_count": 7,
   "metadata": {
    "collapsed": true
   },
   "outputs": [],
   "source": [
    "import numpy as np # linear algebra\n",
    "import pandas as pd # data processing, CSV file I/O (e.g. pd.read_csv)\n",
    "import xlrd"
   ]
  },
  {
   "cell_type": "markdown",
   "metadata": {},
   "source": [
    "based on the bug reported here: https://www.kaggle.com/c/sberbank-russian-housing-market/discussion/34364"
   ]
  },
  {
   "cell_type": "code",
   "execution_count": 8,
   "metadata": {},
   "outputs": [
    {
     "name": "stdout",
     "output_type": "stream",
     "text": [
      "Train data shape:  (30471, 292)\n",
      "Test data shape:  (7662, 291)\n",
      "Fix in train:  550\n",
      "Fix in test :  115\n"
     ]
    }
   ],
   "source": [
    "train_df = pd.read_csv(\"input/train.csv\")\n",
    "test_df = pd.read_csv(\"input/test.csv\")\n",
    "fix_df = pd.read_excel(\"input/BAD_ADDRESS_FIX.xlsx\").drop_duplicates('id').set_index('id')\n",
    "macro_df = pd.read_csv('input/macro.csv')\n",
    "\n",
    "train_df.update(fix_df)\n",
    "test_df.update(fix_df)\n",
    "\n",
    "#train_df = train_df.drop(['product_type'], axis=1)\n",
    "#test_df = test_df.drop(['product_type'], axis=1)\n",
    "\n",
    "print (\"Train data shape: \", train_df.shape)\n",
    "print(\"Test data shape: \",test_df.shape)\n",
    "\n",
    "print('Fix in train: ', train_df.index.intersection(fix_df.index).shape[0])\n",
    "print('Fix in test : ', test_df.index.intersection(fix_df.index).shape[0])"
   ]
  },
  {
   "cell_type": "markdown",
   "metadata": {},
   "source": [
    "# Important notes regarding features\n",
    "\n",
    "THESE ARE SOME OF THE SUMMARY NOTES GAINED FROM KAGGLE DISCUSSIONS, QUESTIONS AND ANSWERS FROM SBERBANK\n",
    "\n",
    "- CHECK LIFE SQ, FULL SQ, KITCH SQ FOR CONSISTENCY\n",
    "- BUILD YEAR CAN BE IN FUTURE - PRE INVESTMENT TYPE \n",
    "- BUILD YEAR 0 AND 1 ARE MISTAKES \n",
    "- CHECK TRAIN AND TEST PRODUCT TYPES \n",
    "- CHECK NUM OF ROOMS FOR CONSISTENCY \n",
    "- MATERIAL EXPLAINED: 1 - panel, 2 - brick, 3 - wood, 4 - mass concrete, 5 - breezeblock, 6 - mass concrete plus brick\n",
    "- STATE EXPLAINED: 4 BEST 1 WORST\n",
    "- KITCHEN INCLUDED IN LIFE SQ CHECK INCONSISTENCY \n",
    "- FULL SQ > LIFE SQ (MOST PROBABLY) \n",
    "- KM DISTANCES ARE AIRLINE DISTANCES\n",
    "- RAION POPUL AND FULL ALL ARE SAME CALC FROM DIFF SOURCES\n"
   ]
  },
  {
   "cell_type": "markdown",
   "metadata": {
    "collapsed": true
   },
   "source": [
    "## CORRECTIONS RULES FOR Full_SQ AND Life_SQ (APPLY TO TRAIN AND TEST):\n",
    "\n",
    "- IF Life_Sq >= Full_Sq MAKE Life_Sq np.NaN\n",
    "- IF Life_Sq < 5 np.NaN\n",
    "- IF Full_Sq < 5 np.NaN \n",
    "- Kitch_Sq < Life_Sq\n",
    "- IF Kitch_Sq == 0 OR 1 np.NaN\n",
    "- CHECK FOR OUTLIERS IN Life_Sq, Full_Sq AND Kitch_Sq (too large or too small)\n",
    "- Life_Sq / Full_Sq MUST BE CONSISTENT, it should be realistic a house without living area is impractical (0.3 IS A CONSERVATIVE RATIO)"
   ]
  },
  {
   "cell_type": "code",
   "execution_count": 9,
   "metadata": {},
   "outputs": [
    {
     "data": {
      "text/plain": [
       "0     8.9\n",
       "1     1.0\n",
       "2     4.8\n",
       "3    62.8\n",
       "4     1.0\n",
       "Name: kitch_sq, dtype: float64"
      ]
     },
     "execution_count": 9,
     "metadata": {},
     "output_type": "execute_result"
    }
   ],
   "source": [
    "test_df['kitch_sq'].head()"
   ]
  },
  {
   "cell_type": "code",
   "execution_count": 10,
   "metadata": {},
   "outputs": [
    {
     "name": "stderr",
     "output_type": "stream",
     "text": [
      "C:\\Continuum\\Anaconda3\\envs\\tf_cpu\\lib\\site-packages\\ipykernel_launcher.py:8: DeprecationWarning: \n",
      ".ix is deprecated. Please use\n",
      ".loc for label based indexing or\n",
      ".iloc for positional indexing\n",
      "\n",
      "See the documentation here:\n",
      "http://pandas.pydata.org/pandas-docs/stable/indexing.html#deprecate_ix\n",
      "  \n",
      "C:\\Continuum\\Anaconda3\\envs\\tf_cpu\\lib\\site-packages\\ipykernel_launcher.py:11: DeprecationWarning: \n",
      ".ix is deprecated. Please use\n",
      ".loc for label based indexing or\n",
      ".iloc for positional indexing\n",
      "\n",
      "See the documentation here:\n",
      "http://pandas.pydata.org/pandas-docs/stable/indexing.html#deprecate_ix\n",
      "  # This is added back by InteractiveShellApp.init_path()\n"
     ]
    }
   ],
   "source": [
    "'''\n",
    "Data points where living area size is greater than total area then it is illogical,\n",
    "hence its better to make living area as NaN.\n",
    "This is applied to both test and train data.\n",
    "''' \n",
    "\n",
    "bad_index = train_df[train_df.life_sq > train_df.full_sq].index\n",
    "train_df.ix[bad_index, \"life_sq\"] = np.NaN\n",
    "\n",
    "equal_index = [601,1896,2791]\n",
    "test_df.ix[equal_index, \"life_sq\"] = test_df.ix[equal_index, \"full_sq\"]\n",
    "\n",
    "bad_index = test_df[test_df.life_sq > test_df.full_sq].index\n",
    "test_df.ix[bad_index, \"life_sq\"] = np.NaN\n",
    "\n",
    "'''\n",
    "Also it is impratical to live inside a house that is very small as small as 5 sq-m.\n",
    "Therefore, change such points in train and test set to NaN\n",
    "'''\n",
    "bad_index = train_df[train_df.life_sq < 5].index\n",
    "train_df.ix[bad_index, \"life_sq\"] = np.NaN\n",
    "\n",
    "bad_index = test_df[test_df.life_sq < 5].index\n",
    "test_df.ix[bad_index, \"life_sq\"] = np.NaN\n",
    "\n",
    "bad_index = train_df[train_df.full_sq < 5].index\n",
    "train_df.ix[bad_index, \"full_sq\"] = np.NaN\n",
    "\n",
    "bad_index = test_df[test_df.full_sq < 5].index\n",
    "test_df.ix[bad_index, \"full_sq\"] = np.NaN\n",
    "\n",
    "'''\n",
    "Looks like at index=13117 the kitchen size is 1970 sq-m while build year is NA. This data doesn't make \n",
    "sense as the total area is 31 sq-m and kitchen is exceeding this by a very large margin. By a quick look\n",
    "at the build year feature it makes sense to have 1970 instead of kitchen size.\n",
    "'''\n",
    "kitch_is_build_year = [13117]\n",
    "train_df.ix[kitch_is_build_year, \"build_year\"] = train_df.ix[kitch_is_build_year, \"kitch_sq\"]\n",
    "\n",
    "'''\n",
    "Once again, fixing up impractical kitchen sizeas with NaN \n",
    "'''\n",
    "bad_index = train_df[train_df.kitch_sq >= train_df.life_sq].index\n",
    "train_df.ix[bad_index, \"kitch_sq\"] = np.NaN\n",
    "\n",
    "bad_index = test_df[test_df.kitch_sq >= test_df.life_sq].index\n",
    "test_df.ix[bad_index, \"kitch_sq\"] = np.NaN\n",
    "\n",
    "bad_index = train_df[(train_df.kitch_sq == 0).values + (train_df.kitch_sq == 1).values].index\n",
    "train_df.ix[bad_index, \"kitch_sq\"] = np.NaN\n",
    "\n",
    "bad_index = test_df[(test_df.kitch_sq == 0).values + (test_df.kitch_sq == 1).values].index\n",
    "test_df.ix[bad_index, \"kitch_sq\"] = np.NaN\n",
    "\n",
    "'''\n",
    "Removing outliers (very large values in total area and those )\n",
    "'''\n",
    "bad_index = train_df[(train_df.full_sq > 210) & (train_df.life_sq / train_df.full_sq < 0.3)].index\n",
    "train_df.ix[bad_index, \"full_sq\"] = np.NaN\n",
    "\n",
    "bad_index = test_df[(test_df.full_sq > 150) & (test_df.life_sq / test_df.full_sq < 0.3)].index\n",
    "test_df.ix[bad_index, \"full_sq\"] = np.NaN\n",
    "\n",
    "'''\n",
    "Removing outliers (very large values in living area)\n",
    "'''\n",
    "bad_index = train_df[train_df.life_sq > 300].index\n",
    "train_df.ix[bad_index, [\"life_sq\", \"full_sq\"]] = np.NaN\n",
    "\n",
    "bad_index = test_df[test_df.life_sq > 200].index\n",
    "test_df.ix[bad_index, [\"life_sq\", \"full_sq\"]] = np.NaN\n",
    "\n"
   ]
  },
  {
   "cell_type": "markdown",
   "metadata": {
    "collapsed": true
   },
   "source": [
    "## Correction rules for Number of Rooms\n",
    "\n",
    "- Check for outlier and eliminate them.\n",
    "- A very small or large number, check if it is practical.\n",
    "- Life_Sq / room > min room Sq (let's say 5 Sq for a room might be ok)\n",
    "- If num room == 0 set to np.NaN\n",
    "- Detect abnormal num rooms given for a Life_Sq and Full_Sq"
   ]
  },
  {
   "cell_type": "code",
   "execution_count": 11,
   "metadata": {
    "collapsed": true
   },
   "outputs": [],
   "source": [
    "'''\n",
    "If the number of rooms are zero, set them as NaN\n",
    "'''\n",
    "bad_index = train_df[train_df.num_room == 0].index \n",
    "train_df.ix[bad_index, \"num_room\"] = np.NaN\n",
    "\n",
    "bad_index = test_df[test_df.num_room == 0].index \n",
    "test_df.ix[bad_index, \"num_room\"] = np.NaN\n",
    "'''\n",
    "A minimum room size where anyone can live could be 5 Sq-m anything below could be suffocating or bad design, \n",
    "hence eliminate the rooms which are smaller than min size.\n",
    "'''\n",
    "bad_index = train_df[train_df.life_sq/train_df.num_room <= 5].index\n",
    "train_df.ix[bad_index, \"num_room\"] = np.NaN\n",
    "\n",
    "bad_index = test_df[test_df.life_sq/test_df.num_room <= 5].index\n",
    "test_df.ix[bad_index, \"num_room\"] = np.NaN"
   ]
  },
  {
   "cell_type": "markdown",
   "metadata": {
    "collapsed": true
   },
   "source": [
    "## Floor and Max Floor; Material and State\n",
    "\n",
    "- CHECK FLOOR < MAX FLOOR (IF FLOOR > MAX FLOOR -> MAX FLOOR np.NaN)\n",
    "- CHECK FOR OUTLIERS"
   ]
  },
  {
   "cell_type": "code",
   "execution_count": 12,
   "metadata": {
    "collapsed": true
   },
   "outputs": [],
   "source": [
    "'''\n",
    "If floor number of the building is greater than maximum number of floors\n",
    "'''\n",
    "bad_index = train_df[train_df.floor > train_df.max_floor].index\n",
    "train_df.ix[bad_index, \"max_floor\"] = np.NaN\n",
    "\n",
    "bad_index = test_df[test_df.floor > test_df.max_floor].index\n",
    "test_df.ix[bad_index, \"max_floor\"] = np.NaN\n"
   ]
  },
  {
   "cell_type": "code",
   "execution_count": 13,
   "metadata": {
    "collapsed": true
   },
   "outputs": [],
   "source": [
    "'''\n",
    "apartment condiditon is mainly from 1 to 4, clearly 33 doesn't fit in. \n",
    "'''\n",
    "bad_index = train_df[train_df.state == 33].index\n",
    "train_df.ix[bad_index, \"state\"] = np.NaN"
   ]
  },
  {
   "cell_type": "markdown",
   "metadata": {},
   "source": [
    "## Saving cleaned test and trained data"
   ]
  },
  {
   "cell_type": "code",
   "execution_count": 15,
   "metadata": {
    "collapsed": true
   },
   "outputs": [],
   "source": [
    "test_df.to_csv(\"input/test_clean.csv\", index= False, encoding= \"utf_8\")\n",
    "train_df.to_csv(\"input/train_clean.csv\", index = False, encoding= \"utf_8\")"
   ]
  }
 ],
 "metadata": {
  "kernelspec": {
   "display_name": "Python 3",
   "language": "python",
   "name": "python3"
  },
  "language_info": {
   "codemirror_mode": {
    "name": "ipython",
    "version": 3
   },
   "file_extension": ".py",
   "mimetype": "text/x-python",
   "name": "python",
   "nbconvert_exporter": "python",
   "pygments_lexer": "ipython3",
   "version": "3.5.3"
  }
 },
 "nbformat": 4,
 "nbformat_minor": 2
}
