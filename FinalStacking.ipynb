{
 "cells": [
  {
   "cell_type": "code",
   "execution_count": 1,
   "metadata": {},
   "outputs": [
    {
     "name": "stderr",
     "output_type": "stream",
     "text": [
      "C:\\Continuum\\Anaconda3\\envs\\tf_gpu\\lib\\site-packages\\tensorflow\\python\\util\\tf_inspect.py:45: DeprecationWarning: inspect.getargspec() is deprecated, use inspect.signature() instead\n",
      "  if d.decorator_argspec is not None), _inspect.getargspec(target))\n",
      "C:\\Continuum\\Anaconda3\\envs\\tf_gpu\\lib\\site-packages\\tensorflow\\python\\util\\tf_inspect.py:45: DeprecationWarning: inspect.getargspec() is deprecated, use inspect.signature() instead\n",
      "  if d.decorator_argspec is not None), _inspect.getargspec(target))\n",
      "C:\\Continuum\\Anaconda3\\envs\\tf_gpu\\lib\\site-packages\\sklearn\\cross_validation.py:44: DeprecationWarning: This module was deprecated in version 0.18 in favor of the model_selection module into which all the refactored classes and functions are moved. Also note that the interface of the new CV iterators are different from that of this module. This module will be removed in 0.20.\n",
      "  \"This module will be removed in 0.20.\", DeprecationWarning)\n",
      "C:\\Continuum\\Anaconda3\\envs\\tf_gpu\\lib\\site-packages\\sklearn\\grid_search.py:43: DeprecationWarning: This module was deprecated in version 0.18 in favor of the model_selection module into which all the refactored classes and functions are moved. This module will be removed in 0.20.\n",
      "  DeprecationWarning)\n",
      "Using TensorFlow backend.\n",
      "C:\\Continuum\\Anaconda3\\envs\\tf_gpu\\lib\\site-packages\\tensorflow\\python\\util\\tf_inspect.py:45: DeprecationWarning: inspect.getargspec() is deprecated, use inspect.signature() instead\n",
      "  if d.decorator_argspec is not None), _inspect.getargspec(target))\n",
      "C:\\Continuum\\Anaconda3\\envs\\tf_gpu\\lib\\site-packages\\tensorflow\\python\\util\\tf_inspect.py:45: DeprecationWarning: inspect.getargspec() is deprecated, use inspect.signature() instead\n",
      "  if d.decorator_argspec is not None), _inspect.getargspec(target))\n",
      "C:\\Continuum\\Anaconda3\\envs\\tf_gpu\\lib\\site-packages\\tensorflow\\python\\util\\tf_inspect.py:45: DeprecationWarning: inspect.getargspec() is deprecated, use inspect.signature() instead\n",
      "  if d.decorator_argspec is not None), _inspect.getargspec(target))\n",
      "C:\\Continuum\\Anaconda3\\envs\\tf_gpu\\lib\\site-packages\\tensorflow\\python\\util\\tf_inspect.py:45: DeprecationWarning: inspect.getargspec() is deprecated, use inspect.signature() instead\n",
      "  if d.decorator_argspec is not None), _inspect.getargspec(target))\n",
      "C:\\Continuum\\Anaconda3\\envs\\tf_gpu\\lib\\site-packages\\tensorflow\\python\\util\\tf_inspect.py:45: DeprecationWarning: inspect.getargspec() is deprecated, use inspect.signature() instead\n",
      "  if d.decorator_argspec is not None), _inspect.getargspec(target))\n",
      "C:\\Continuum\\Anaconda3\\envs\\tf_gpu\\lib\\site-packages\\tensorflow\\python\\util\\tf_inspect.py:45: DeprecationWarning: inspect.getargspec() is deprecated, use inspect.signature() instead\n",
      "  if d.decorator_argspec is not None), _inspect.getargspec(target))\n",
      "C:\\Continuum\\Anaconda3\\envs\\tf_gpu\\lib\\site-packages\\tensorflow\\python\\util\\tf_inspect.py:45: DeprecationWarning: inspect.getargspec() is deprecated, use inspect.signature() instead\n",
      "  if d.decorator_argspec is not None), _inspect.getargspec(target))\n",
      "C:\\Continuum\\Anaconda3\\envs\\tf_gpu\\lib\\site-packages\\tensorflow\\python\\util\\tf_inspect.py:45: DeprecationWarning: inspect.getargspec() is deprecated, use inspect.signature() instead\n",
      "  if d.decorator_argspec is not None), _inspect.getargspec(target))\n",
      "C:\\Continuum\\Anaconda3\\envs\\tf_gpu\\lib\\site-packages\\tensorflow\\python\\util\\tf_inspect.py:45: DeprecationWarning: inspect.getargspec() is deprecated, use inspect.signature() instead\n",
      "  if d.decorator_argspec is not None), _inspect.getargspec(target))\n",
      "C:\\Continuum\\Anaconda3\\envs\\tf_gpu\\lib\\site-packages\\tensorflow\\python\\util\\tf_inspect.py:45: DeprecationWarning: inspect.getargspec() is deprecated, use inspect.signature() instead\n",
      "  if d.decorator_argspec is not None), _inspect.getargspec(target))\n",
      "C:\\Continuum\\Anaconda3\\envs\\tf_gpu\\lib\\site-packages\\tensorflow\\python\\util\\tf_inspect.py:45: DeprecationWarning: inspect.getargspec() is deprecated, use inspect.signature() instead\n",
      "  if d.decorator_argspec is not None), _inspect.getargspec(target))\n",
      "C:\\Continuum\\Anaconda3\\envs\\tf_gpu\\lib\\site-packages\\tensorflow\\python\\util\\tf_inspect.py:45: DeprecationWarning: inspect.getargspec() is deprecated, use inspect.signature() instead\n",
      "  if d.decorator_argspec is not None), _inspect.getargspec(target))\n",
      "C:\\Continuum\\Anaconda3\\envs\\tf_gpu\\lib\\site-packages\\tensorflow\\python\\util\\tf_inspect.py:45: DeprecationWarning: inspect.getargspec() is deprecated, use inspect.signature() instead\n",
      "  if d.decorator_argspec is not None), _inspect.getargspec(target))\n",
      "C:\\Continuum\\Anaconda3\\envs\\tf_gpu\\lib\\site-packages\\tensorflow\\python\\util\\tf_inspect.py:45: DeprecationWarning: inspect.getargspec() is deprecated, use inspect.signature() instead\n",
      "  if d.decorator_argspec is not None), _inspect.getargspec(target))\n",
      "C:\\Continuum\\Anaconda3\\envs\\tf_gpu\\lib\\site-packages\\tensorflow\\python\\util\\tf_inspect.py:45: DeprecationWarning: inspect.getargspec() is deprecated, use inspect.signature() instead\n",
      "  if d.decorator_argspec is not None), _inspect.getargspec(target))\n",
      "C:\\Continuum\\Anaconda3\\envs\\tf_gpu\\lib\\site-packages\\tensorflow\\python\\util\\tf_inspect.py:45: DeprecationWarning: inspect.getargspec() is deprecated, use inspect.signature() instead\n",
      "  if d.decorator_argspec is not None), _inspect.getargspec(target))\n",
      "C:\\Continuum\\Anaconda3\\envs\\tf_gpu\\lib\\site-packages\\tensorflow\\python\\util\\tf_inspect.py:45: DeprecationWarning: inspect.getargspec() is deprecated, use inspect.signature() instead\n",
      "  if d.decorator_argspec is not None), _inspect.getargspec(target))\n",
      "C:\\Continuum\\Anaconda3\\envs\\tf_gpu\\lib\\site-packages\\tensorflow\\python\\util\\tf_inspect.py:45: DeprecationWarning: inspect.getargspec() is deprecated, use inspect.signature() instead\n",
      "  if d.decorator_argspec is not None), _inspect.getargspec(target))\n",
      "C:\\Continuum\\Anaconda3\\envs\\tf_gpu\\lib\\site-packages\\tensorflow\\python\\util\\tf_inspect.py:45: DeprecationWarning: inspect.getargspec() is deprecated, use inspect.signature() instead\n",
      "  if d.decorator_argspec is not None), _inspect.getargspec(target))\n",
      "C:\\Continuum\\Anaconda3\\envs\\tf_gpu\\lib\\site-packages\\tensorflow\\python\\util\\tf_inspect.py:45: DeprecationWarning: inspect.getargspec() is deprecated, use inspect.signature() instead\n",
      "  if d.decorator_argspec is not None), _inspect.getargspec(target))\n",
      "C:\\Continuum\\Anaconda3\\envs\\tf_gpu\\lib\\site-packages\\tensorflow\\python\\util\\tf_inspect.py:45: DeprecationWarning: inspect.getargspec() is deprecated, use inspect.signature() instead\n",
      "  if d.decorator_argspec is not None), _inspect.getargspec(target))\n",
      "C:\\Continuum\\Anaconda3\\envs\\tf_gpu\\lib\\site-packages\\tensorflow\\python\\util\\tf_inspect.py:45: DeprecationWarning: inspect.getargspec() is deprecated, use inspect.signature() instead\n",
      "  if d.decorator_argspec is not None), _inspect.getargspec(target))\n",
      "C:\\Continuum\\Anaconda3\\envs\\tf_gpu\\lib\\site-packages\\tensorflow\\python\\util\\tf_inspect.py:45: DeprecationWarning: inspect.getargspec() is deprecated, use inspect.signature() instead\n",
      "  if d.decorator_argspec is not None), _inspect.getargspec(target))\n",
      "C:\\Continuum\\Anaconda3\\envs\\tf_gpu\\lib\\site-packages\\tensorflow\\python\\util\\tf_inspect.py:45: DeprecationWarning: inspect.getargspec() is deprecated, use inspect.signature() instead\n",
      "  if d.decorator_argspec is not None), _inspect.getargspec(target))\n",
      "C:\\Continuum\\Anaconda3\\envs\\tf_gpu\\lib\\site-packages\\tensorflow\\python\\util\\tf_inspect.py:45: DeprecationWarning: inspect.getargspec() is deprecated, use inspect.signature() instead\n",
      "  if d.decorator_argspec is not None), _inspect.getargspec(target))\n",
      "C:\\Continuum\\Anaconda3\\envs\\tf_gpu\\lib\\site-packages\\tensorflow\\python\\util\\tf_inspect.py:45: DeprecationWarning: inspect.getargspec() is deprecated, use inspect.signature() instead\n",
      "  if d.decorator_argspec is not None), _inspect.getargspec(target))\n",
      "C:\\Continuum\\Anaconda3\\envs\\tf_gpu\\lib\\site-packages\\tensorflow\\python\\util\\tf_inspect.py:45: DeprecationWarning: inspect.getargspec() is deprecated, use inspect.signature() instead\n",
      "  if d.decorator_argspec is not None), _inspect.getargspec(target))\n",
      "C:\\Continuum\\Anaconda3\\envs\\tf_gpu\\lib\\site-packages\\tensorflow\\python\\util\\tf_inspect.py:45: DeprecationWarning: inspect.getargspec() is deprecated, use inspect.signature() instead\n",
      "  if d.decorator_argspec is not None), _inspect.getargspec(target))\n",
      "C:\\Continuum\\Anaconda3\\envs\\tf_gpu\\lib\\site-packages\\tensorflow\\python\\util\\tf_inspect.py:45: DeprecationWarning: inspect.getargspec() is deprecated, use inspect.signature() instead\n",
      "  if d.decorator_argspec is not None), _inspect.getargspec(target))\n",
      "C:\\Continuum\\Anaconda3\\envs\\tf_gpu\\lib\\site-packages\\tensorflow\\python\\util\\tf_inspect.py:45: DeprecationWarning: inspect.getargspec() is deprecated, use inspect.signature() instead\n",
      "  if d.decorator_argspec is not None), _inspect.getargspec(target))\n",
      "C:\\Continuum\\Anaconda3\\envs\\tf_gpu\\lib\\site-packages\\tensorflow\\python\\util\\tf_inspect.py:45: DeprecationWarning: inspect.getargspec() is deprecated, use inspect.signature() instead\n",
      "  if d.decorator_argspec is not None), _inspect.getargspec(target))\n",
      "C:\\Continuum\\Anaconda3\\envs\\tf_gpu\\lib\\site-packages\\tensorflow\\python\\util\\tf_inspect.py:45: DeprecationWarning: inspect.getargspec() is deprecated, use inspect.signature() instead\n",
      "  if d.decorator_argspec is not None), _inspect.getargspec(target))\n",
      "C:\\Continuum\\Anaconda3\\envs\\tf_gpu\\lib\\site-packages\\tensorflow\\python\\util\\tf_inspect.py:45: DeprecationWarning: inspect.getargspec() is deprecated, use inspect.signature() instead\n",
      "  if d.decorator_argspec is not None), _inspect.getargspec(target))\n",
      "C:\\Continuum\\Anaconda3\\envs\\tf_gpu\\lib\\site-packages\\tensorflow\\python\\util\\tf_inspect.py:45: DeprecationWarning: inspect.getargspec() is deprecated, use inspect.signature() instead\n",
      "  if d.decorator_argspec is not None), _inspect.getargspec(target))\n",
      "C:\\Continuum\\Anaconda3\\envs\\tf_gpu\\lib\\site-packages\\tensorflow\\python\\util\\tf_inspect.py:45: DeprecationWarning: inspect.getargspec() is deprecated, use inspect.signature() instead\n",
      "  if d.decorator_argspec is not None), _inspect.getargspec(target))\n",
      "C:\\Continuum\\Anaconda3\\envs\\tf_gpu\\lib\\site-packages\\tensorflow\\python\\util\\tf_inspect.py:45: DeprecationWarning: inspect.getargspec() is deprecated, use inspect.signature() instead\n",
      "  if d.decorator_argspec is not None), _inspect.getargspec(target))\n",
      "C:\\Continuum\\Anaconda3\\envs\\tf_gpu\\lib\\site-packages\\tensorflow\\python\\util\\tf_inspect.py:45: DeprecationWarning: inspect.getargspec() is deprecated, use inspect.signature() instead\n",
      "  if d.decorator_argspec is not None), _inspect.getargspec(target))\n",
      "C:\\Continuum\\Anaconda3\\envs\\tf_gpu\\lib\\site-packages\\tensorflow\\python\\util\\tf_inspect.py:45: DeprecationWarning: inspect.getargspec() is deprecated, use inspect.signature() instead\n",
      "  if d.decorator_argspec is not None), _inspect.getargspec(target))\n",
      "C:\\Continuum\\Anaconda3\\envs\\tf_gpu\\lib\\site-packages\\tensorflow\\python\\util\\tf_inspect.py:45: DeprecationWarning: inspect.getargspec() is deprecated, use inspect.signature() instead\n",
      "  if d.decorator_argspec is not None), _inspect.getargspec(target))\n",
      "C:\\Continuum\\Anaconda3\\envs\\tf_gpu\\lib\\site-packages\\tensorflow\\python\\util\\tf_inspect.py:45: DeprecationWarning: inspect.getargspec() is deprecated, use inspect.signature() instead\n",
      "  if d.decorator_argspec is not None), _inspect.getargspec(target))\n",
      "C:\\Continuum\\Anaconda3\\envs\\tf_gpu\\lib\\site-packages\\tensorflow\\python\\util\\tf_inspect.py:45: DeprecationWarning: inspect.getargspec() is deprecated, use inspect.signature() instead\n",
      "  if d.decorator_argspec is not None), _inspect.getargspec(target))\n",
      "C:\\Continuum\\Anaconda3\\envs\\tf_gpu\\lib\\site-packages\\tensorflow\\python\\util\\tf_inspect.py:45: DeprecationWarning: inspect.getargspec() is deprecated, use inspect.signature() instead\n",
      "  if d.decorator_argspec is not None), _inspect.getargspec(target))\n",
      "C:\\Continuum\\Anaconda3\\envs\\tf_gpu\\lib\\site-packages\\tensorflow\\python\\util\\tf_inspect.py:45: DeprecationWarning: inspect.getargspec() is deprecated, use inspect.signature() instead\n",
      "  if d.decorator_argspec is not None), _inspect.getargspec(target))\n",
      "C:\\Continuum\\Anaconda3\\envs\\tf_gpu\\lib\\site-packages\\tensorflow\\python\\util\\tf_inspect.py:45: DeprecationWarning: inspect.getargspec() is deprecated, use inspect.signature() instead\n",
      "  if d.decorator_argspec is not None), _inspect.getargspec(target))\n",
      "C:\\Continuum\\Anaconda3\\envs\\tf_gpu\\lib\\site-packages\\tensorflow\\python\\util\\tf_inspect.py:45: DeprecationWarning: inspect.getargspec() is deprecated, use inspect.signature() instead\n",
      "  if d.decorator_argspec is not None), _inspect.getargspec(target))\n",
      "C:\\Continuum\\Anaconda3\\envs\\tf_gpu\\lib\\site-packages\\tensorflow\\python\\util\\tf_inspect.py:45: DeprecationWarning: inspect.getargspec() is deprecated, use inspect.signature() instead\n",
      "  if d.decorator_argspec is not None), _inspect.getargspec(target))\n",
      "C:\\Continuum\\Anaconda3\\envs\\tf_gpu\\lib\\site-packages\\tensorflow\\python\\util\\tf_inspect.py:45: DeprecationWarning: inspect.getargspec() is deprecated, use inspect.signature() instead\n",
      "  if d.decorator_argspec is not None), _inspect.getargspec(target))\n",
      "C:\\Continuum\\Anaconda3\\envs\\tf_gpu\\lib\\site-packages\\tensorflow\\python\\util\\tf_inspect.py:45: DeprecationWarning: inspect.getargspec() is deprecated, use inspect.signature() instead\n",
      "  if d.decorator_argspec is not None), _inspect.getargspec(target))\n",
      "C:\\Continuum\\Anaconda3\\envs\\tf_gpu\\lib\\site-packages\\tensorflow\\python\\util\\tf_inspect.py:45: DeprecationWarning: inspect.getargspec() is deprecated, use inspect.signature() instead\n",
      "  if d.decorator_argspec is not None), _inspect.getargspec(target))\n",
      "C:\\Continuum\\Anaconda3\\envs\\tf_gpu\\lib\\site-packages\\tensorflow\\python\\util\\tf_inspect.py:45: DeprecationWarning: inspect.getargspec() is deprecated, use inspect.signature() instead\n",
      "  if d.decorator_argspec is not None), _inspect.getargspec(target))\n",
      "C:\\Continuum\\Anaconda3\\envs\\tf_gpu\\lib\\site-packages\\tensorflow\\python\\util\\tf_inspect.py:45: DeprecationWarning: inspect.getargspec() is deprecated, use inspect.signature() instead\n",
      "  if d.decorator_argspec is not None), _inspect.getargspec(target))\n",
      "C:\\Continuum\\Anaconda3\\envs\\tf_gpu\\lib\\site-packages\\tensorflow\\python\\util\\tf_inspect.py:45: DeprecationWarning: inspect.getargspec() is deprecated, use inspect.signature() instead\n",
      "  if d.decorator_argspec is not None), _inspect.getargspec(target))\n",
      "C:\\Continuum\\Anaconda3\\envs\\tf_gpu\\lib\\site-packages\\tensorflow\\python\\util\\tf_inspect.py:45: DeprecationWarning: inspect.getargspec() is deprecated, use inspect.signature() instead\n",
      "  if d.decorator_argspec is not None), _inspect.getargspec(target))\n",
      "C:\\Continuum\\Anaconda3\\envs\\tf_gpu\\lib\\site-packages\\tensorflow\\python\\util\\tf_inspect.py:45: DeprecationWarning: inspect.getargspec() is deprecated, use inspect.signature() instead\n",
      "  if d.decorator_argspec is not None), _inspect.getargspec(target))\n",
      "C:\\Continuum\\Anaconda3\\envs\\tf_gpu\\lib\\site-packages\\tensorflow\\python\\util\\tf_inspect.py:45: DeprecationWarning: inspect.getargspec() is deprecated, use inspect.signature() instead\n",
      "  if d.decorator_argspec is not None), _inspect.getargspec(target))\n",
      "C:\\Continuum\\Anaconda3\\envs\\tf_gpu\\lib\\site-packages\\tensorflow\\python\\util\\tf_inspect.py:45: DeprecationWarning: inspect.getargspec() is deprecated, use inspect.signature() instead\n",
      "  if d.decorator_argspec is not None), _inspect.getargspec(target))\n",
      "C:\\Continuum\\Anaconda3\\envs\\tf_gpu\\lib\\site-packages\\tensorflow\\python\\util\\tf_inspect.py:45: DeprecationWarning: inspect.getargspec() is deprecated, use inspect.signature() instead\n",
      "  if d.decorator_argspec is not None), _inspect.getargspec(target))\n",
      "C:\\Continuum\\Anaconda3\\envs\\tf_gpu\\lib\\site-packages\\tensorflow\\python\\util\\tf_inspect.py:45: DeprecationWarning: inspect.getargspec() is deprecated, use inspect.signature() instead\n",
      "  if d.decorator_argspec is not None), _inspect.getargspec(target))\n",
      "C:\\Continuum\\Anaconda3\\envs\\tf_gpu\\lib\\site-packages\\tensorflow\\python\\util\\tf_inspect.py:45: DeprecationWarning: inspect.getargspec() is deprecated, use inspect.signature() instead\n",
      "  if d.decorator_argspec is not None), _inspect.getargspec(target))\n",
      "C:\\Continuum\\Anaconda3\\envs\\tf_gpu\\lib\\site-packages\\tensorflow\\python\\util\\tf_inspect.py:45: DeprecationWarning: inspect.getargspec() is deprecated, use inspect.signature() instead\n",
      "  if d.decorator_argspec is not None), _inspect.getargspec(target))\n",
      "C:\\Continuum\\Anaconda3\\envs\\tf_gpu\\lib\\site-packages\\tensorflow\\python\\util\\tf_inspect.py:45: DeprecationWarning: inspect.getargspec() is deprecated, use inspect.signature() instead\n",
      "  if d.decorator_argspec is not None), _inspect.getargspec(target))\n",
      "C:\\Continuum\\Anaconda3\\envs\\tf_gpu\\lib\\site-packages\\tensorflow\\python\\util\\tf_inspect.py:45: DeprecationWarning: inspect.getargspec() is deprecated, use inspect.signature() instead\n",
      "  if d.decorator_argspec is not None), _inspect.getargspec(target))\n",
      "C:\\Continuum\\Anaconda3\\envs\\tf_gpu\\lib\\site-packages\\tensorflow\\python\\util\\tf_inspect.py:45: DeprecationWarning: inspect.getargspec() is deprecated, use inspect.signature() instead\n",
      "  if d.decorator_argspec is not None), _inspect.getargspec(target))\n",
      "C:\\Continuum\\Anaconda3\\envs\\tf_gpu\\lib\\site-packages\\tensorflow\\python\\util\\tf_inspect.py:45: DeprecationWarning: inspect.getargspec() is deprecated, use inspect.signature() instead\n",
      "  if d.decorator_argspec is not None), _inspect.getargspec(target))\n",
      "C:\\Continuum\\Anaconda3\\envs\\tf_gpu\\lib\\site-packages\\tensorflow\\python\\util\\tf_inspect.py:45: DeprecationWarning: inspect.getargspec() is deprecated, use inspect.signature() instead\n",
      "  if d.decorator_argspec is not None), _inspect.getargspec(target))\n",
      "C:\\Continuum\\Anaconda3\\envs\\tf_gpu\\lib\\site-packages\\tensorflow\\python\\util\\tf_inspect.py:45: DeprecationWarning: inspect.getargspec() is deprecated, use inspect.signature() instead\n",
      "  if d.decorator_argspec is not None), _inspect.getargspec(target))\n",
      "C:\\Continuum\\Anaconda3\\envs\\tf_gpu\\lib\\site-packages\\tensorflow\\python\\util\\tf_inspect.py:45: DeprecationWarning: inspect.getargspec() is deprecated, use inspect.signature() instead\n",
      "  if d.decorator_argspec is not None), _inspect.getargspec(target))\n",
      "C:\\Continuum\\Anaconda3\\envs\\tf_gpu\\lib\\site-packages\\tensorflow\\python\\util\\tf_inspect.py:45: DeprecationWarning: inspect.getargspec() is deprecated, use inspect.signature() instead\n",
      "  if d.decorator_argspec is not None), _inspect.getargspec(target))\n",
      "C:\\Continuum\\Anaconda3\\envs\\tf_gpu\\lib\\site-packages\\tensorflow\\python\\util\\tf_inspect.py:45: DeprecationWarning: inspect.getargspec() is deprecated, use inspect.signature() instead\n",
      "  if d.decorator_argspec is not None), _inspect.getargspec(target))\n",
      "C:\\Continuum\\Anaconda3\\envs\\tf_gpu\\lib\\site-packages\\tensorflow\\python\\util\\tf_inspect.py:45: DeprecationWarning: inspect.getargspec() is deprecated, use inspect.signature() instead\n",
      "  if d.decorator_argspec is not None), _inspect.getargspec(target))\n",
      "C:\\Continuum\\Anaconda3\\envs\\tf_gpu\\lib\\site-packages\\tensorflow\\python\\util\\tf_inspect.py:45: DeprecationWarning: inspect.getargspec() is deprecated, use inspect.signature() instead\n",
      "  if d.decorator_argspec is not None), _inspect.getargspec(target))\n",
      "C:\\Continuum\\Anaconda3\\envs\\tf_gpu\\lib\\site-packages\\tensorflow\\python\\util\\tf_inspect.py:45: DeprecationWarning: inspect.getargspec() is deprecated, use inspect.signature() instead\n",
      "  if d.decorator_argspec is not None), _inspect.getargspec(target))\n",
      "C:\\Continuum\\Anaconda3\\envs\\tf_gpu\\lib\\site-packages\\tensorflow\\python\\util\\tf_inspect.py:45: DeprecationWarning: inspect.getargspec() is deprecated, use inspect.signature() instead\n",
      "  if d.decorator_argspec is not None), _inspect.getargspec(target))\n",
      "C:\\Continuum\\Anaconda3\\envs\\tf_gpu\\lib\\site-packages\\tensorflow\\python\\util\\tf_inspect.py:45: DeprecationWarning: inspect.getargspec() is deprecated, use inspect.signature() instead\n",
      "  if d.decorator_argspec is not None), _inspect.getargspec(target))\n",
      "C:\\Continuum\\Anaconda3\\envs\\tf_gpu\\lib\\site-packages\\tensorflow\\python\\util\\tf_inspect.py:45: DeprecationWarning: inspect.getargspec() is deprecated, use inspect.signature() instead\n",
      "  if d.decorator_argspec is not None), _inspect.getargspec(target))\n",
      "C:\\Continuum\\Anaconda3\\envs\\tf_gpu\\lib\\site-packages\\tensorflow\\python\\util\\tf_inspect.py:45: DeprecationWarning: inspect.getargspec() is deprecated, use inspect.signature() instead\n",
      "  if d.decorator_argspec is not None), _inspect.getargspec(target))\n",
      "C:\\Continuum\\Anaconda3\\envs\\tf_gpu\\lib\\site-packages\\tensorflow\\python\\util\\tf_inspect.py:45: DeprecationWarning: inspect.getargspec() is deprecated, use inspect.signature() instead\n",
      "  if d.decorator_argspec is not None), _inspect.getargspec(target))\n",
      "C:\\Continuum\\Anaconda3\\envs\\tf_gpu\\lib\\site-packages\\tensorflow\\python\\util\\tf_inspect.py:45: DeprecationWarning: inspect.getargspec() is deprecated, use inspect.signature() instead\n",
      "  if d.decorator_argspec is not None), _inspect.getargspec(target))\n",
      "C:\\Continuum\\Anaconda3\\envs\\tf_gpu\\lib\\site-packages\\tensorflow\\python\\util\\tf_inspect.py:45: DeprecationWarning: inspect.getargspec() is deprecated, use inspect.signature() instead\n",
      "  if d.decorator_argspec is not None), _inspect.getargspec(target))\n",
      "C:\\Continuum\\Anaconda3\\envs\\tf_gpu\\lib\\site-packages\\tensorflow\\python\\util\\tf_inspect.py:45: DeprecationWarning: inspect.getargspec() is deprecated, use inspect.signature() instead\n",
      "  if d.decorator_argspec is not None), _inspect.getargspec(target))\n",
      "C:\\Continuum\\Anaconda3\\envs\\tf_gpu\\lib\\site-packages\\tensorflow\\python\\util\\tf_inspect.py:45: DeprecationWarning: inspect.getargspec() is deprecated, use inspect.signature() instead\n",
      "  if d.decorator_argspec is not None), _inspect.getargspec(target))\n",
      "C:\\Continuum\\Anaconda3\\envs\\tf_gpu\\lib\\site-packages\\tensorflow\\python\\util\\tf_inspect.py:45: DeprecationWarning: inspect.getargspec() is deprecated, use inspect.signature() instead\n",
      "  if d.decorator_argspec is not None), _inspect.getargspec(target))\n",
      "C:\\Continuum\\Anaconda3\\envs\\tf_gpu\\lib\\site-packages\\tensorflow\\python\\util\\tf_inspect.py:45: DeprecationWarning: inspect.getargspec() is deprecated, use inspect.signature() instead\n",
      "  if d.decorator_argspec is not None), _inspect.getargspec(target))\n",
      "C:\\Continuum\\Anaconda3\\envs\\tf_gpu\\lib\\site-packages\\tensorflow\\python\\util\\tf_inspect.py:45: DeprecationWarning: inspect.getargspec() is deprecated, use inspect.signature() instead\n",
      "  if d.decorator_argspec is not None), _inspect.getargspec(target))\n",
      "C:\\Continuum\\Anaconda3\\envs\\tf_gpu\\lib\\site-packages\\tensorflow\\python\\util\\tf_inspect.py:45: DeprecationWarning: inspect.getargspec() is deprecated, use inspect.signature() instead\n",
      "  if d.decorator_argspec is not None), _inspect.getargspec(target))\n",
      "C:\\Continuum\\Anaconda3\\envs\\tf_gpu\\lib\\site-packages\\tensorflow\\python\\util\\tf_inspect.py:45: DeprecationWarning: inspect.getargspec() is deprecated, use inspect.signature() instead\n",
      "  if d.decorator_argspec is not None), _inspect.getargspec(target))\n",
      "C:\\Continuum\\Anaconda3\\envs\\tf_gpu\\lib\\site-packages\\tensorflow\\python\\util\\tf_inspect.py:45: DeprecationWarning: inspect.getargspec() is deprecated, use inspect.signature() instead\n",
      "  if d.decorator_argspec is not None), _inspect.getargspec(target))\n",
      "C:\\Continuum\\Anaconda3\\envs\\tf_gpu\\lib\\site-packages\\tensorflow\\python\\util\\tf_inspect.py:45: DeprecationWarning: inspect.getargspec() is deprecated, use inspect.signature() instead\n",
      "  if d.decorator_argspec is not None), _inspect.getargspec(target))\n",
      "C:\\Continuum\\Anaconda3\\envs\\tf_gpu\\lib\\site-packages\\tensorflow\\python\\util\\tf_inspect.py:45: DeprecationWarning: inspect.getargspec() is deprecated, use inspect.signature() instead\n",
      "  if d.decorator_argspec is not None), _inspect.getargspec(target))\n",
      "C:\\Continuum\\Anaconda3\\envs\\tf_gpu\\lib\\site-packages\\tensorflow\\python\\util\\tf_inspect.py:45: DeprecationWarning: inspect.getargspec() is deprecated, use inspect.signature() instead\n",
      "  if d.decorator_argspec is not None), _inspect.getargspec(target))\n",
      "C:\\Continuum\\Anaconda3\\envs\\tf_gpu\\lib\\site-packages\\tensorflow\\python\\util\\tf_inspect.py:45: DeprecationWarning: inspect.getargspec() is deprecated, use inspect.signature() instead\n",
      "  if d.decorator_argspec is not None), _inspect.getargspec(target))\n",
      "C:\\Continuum\\Anaconda3\\envs\\tf_gpu\\lib\\site-packages\\tensorflow\\python\\util\\tf_inspect.py:45: DeprecationWarning: inspect.getargspec() is deprecated, use inspect.signature() instead\n",
      "  if d.decorator_argspec is not None), _inspect.getargspec(target))\n",
      "C:\\Continuum\\Anaconda3\\envs\\tf_gpu\\lib\\site-packages\\tensorflow\\python\\util\\tf_inspect.py:45: DeprecationWarning: inspect.getargspec() is deprecated, use inspect.signature() instead\n",
      "  if d.decorator_argspec is not None), _inspect.getargspec(target))\n",
      "C:\\Continuum\\Anaconda3\\envs\\tf_gpu\\lib\\site-packages\\tensorflow\\python\\util\\tf_inspect.py:45: DeprecationWarning: inspect.getargspec() is deprecated, use inspect.signature() instead\n",
      "  if d.decorator_argspec is not None), _inspect.getargspec(target))\n",
      "C:\\Continuum\\Anaconda3\\envs\\tf_gpu\\lib\\site-packages\\tensorflow\\python\\util\\tf_inspect.py:45: DeprecationWarning: inspect.getargspec() is deprecated, use inspect.signature() instead\n",
      "  if d.decorator_argspec is not None), _inspect.getargspec(target))\n",
      "C:\\Continuum\\Anaconda3\\envs\\tf_gpu\\lib\\site-packages\\tensorflow\\python\\util\\tf_inspect.py:45: DeprecationWarning: inspect.getargspec() is deprecated, use inspect.signature() instead\n",
      "  if d.decorator_argspec is not None), _inspect.getargspec(target))\n",
      "C:\\Continuum\\Anaconda3\\envs\\tf_gpu\\lib\\site-packages\\tensorflow\\python\\util\\tf_inspect.py:45: DeprecationWarning: inspect.getargspec() is deprecated, use inspect.signature() instead\n",
      "  if d.decorator_argspec is not None), _inspect.getargspec(target))\n",
      "C:\\Continuum\\Anaconda3\\envs\\tf_gpu\\lib\\site-packages\\tensorflow\\python\\util\\tf_inspect.py:45: DeprecationWarning: inspect.getargspec() is deprecated, use inspect.signature() instead\n",
      "  if d.decorator_argspec is not None), _inspect.getargspec(target))\n",
      "C:\\Continuum\\Anaconda3\\envs\\tf_gpu\\lib\\site-packages\\tensorflow\\python\\util\\tf_inspect.py:45: DeprecationWarning: inspect.getargspec() is deprecated, use inspect.signature() instead\n",
      "  if d.decorator_argspec is not None), _inspect.getargspec(target))\n",
      "C:\\Continuum\\Anaconda3\\envs\\tf_gpu\\lib\\site-packages\\tensorflow\\python\\util\\tf_inspect.py:45: DeprecationWarning: inspect.getargspec() is deprecated, use inspect.signature() instead\n",
      "  if d.decorator_argspec is not None), _inspect.getargspec(target))\n",
      "C:\\Continuum\\Anaconda3\\envs\\tf_gpu\\lib\\site-packages\\tensorflow\\python\\util\\tf_inspect.py:45: DeprecationWarning: inspect.getargspec() is deprecated, use inspect.signature() instead\n",
      "  if d.decorator_argspec is not None), _inspect.getargspec(target))\n",
      "C:\\Continuum\\Anaconda3\\envs\\tf_gpu\\lib\\site-packages\\tensorflow\\python\\util\\tf_inspect.py:45: DeprecationWarning: inspect.getargspec() is deprecated, use inspect.signature() instead\n",
      "  if d.decorator_argspec is not None), _inspect.getargspec(target))\n",
      "C:\\Continuum\\Anaconda3\\envs\\tf_gpu\\lib\\site-packages\\tensorflow\\python\\util\\tf_inspect.py:45: DeprecationWarning: inspect.getargspec() is deprecated, use inspect.signature() instead\n",
      "  if d.decorator_argspec is not None), _inspect.getargspec(target))\n",
      "C:\\Continuum\\Anaconda3\\envs\\tf_gpu\\lib\\site-packages\\tensorflow\\python\\util\\tf_inspect.py:45: DeprecationWarning: inspect.getargspec() is deprecated, use inspect.signature() instead\n",
      "  if d.decorator_argspec is not None), _inspect.getargspec(target))\n",
      "C:\\Continuum\\Anaconda3\\envs\\tf_gpu\\lib\\site-packages\\tensorflow\\python\\util\\tf_inspect.py:45: DeprecationWarning: inspect.getargspec() is deprecated, use inspect.signature() instead\n",
      "  if d.decorator_argspec is not None), _inspect.getargspec(target))\n",
      "C:\\Continuum\\Anaconda3\\envs\\tf_gpu\\lib\\site-packages\\tensorflow\\python\\util\\tf_inspect.py:45: DeprecationWarning: inspect.getargspec() is deprecated, use inspect.signature() instead\n",
      "  if d.decorator_argspec is not None), _inspect.getargspec(target))\n",
      "C:\\Continuum\\Anaconda3\\envs\\tf_gpu\\lib\\site-packages\\tensorflow\\python\\util\\tf_inspect.py:45: DeprecationWarning: inspect.getargspec() is deprecated, use inspect.signature() instead\n",
      "  if d.decorator_argspec is not None), _inspect.getargspec(target))\n",
      "C:\\Continuum\\Anaconda3\\envs\\tf_gpu\\lib\\site-packages\\tensorflow\\python\\util\\tf_inspect.py:45: DeprecationWarning: inspect.getargspec() is deprecated, use inspect.signature() instead\n",
      "  if d.decorator_argspec is not None), _inspect.getargspec(target))\n",
      "C:\\Continuum\\Anaconda3\\envs\\tf_gpu\\lib\\site-packages\\tensorflow\\python\\util\\tf_inspect.py:45: DeprecationWarning: inspect.getargspec() is deprecated, use inspect.signature() instead\n",
      "  if d.decorator_argspec is not None), _inspect.getargspec(target))\n",
      "C:\\Continuum\\Anaconda3\\envs\\tf_gpu\\lib\\site-packages\\tensorflow\\python\\util\\tf_inspect.py:45: DeprecationWarning: inspect.getargspec() is deprecated, use inspect.signature() instead\n",
      "  if d.decorator_argspec is not None), _inspect.getargspec(target))\n",
      "C:\\Continuum\\Anaconda3\\envs\\tf_gpu\\lib\\site-packages\\tensorflow\\python\\util\\tf_inspect.py:45: DeprecationWarning: inspect.getargspec() is deprecated, use inspect.signature() instead\n",
      "  if d.decorator_argspec is not None), _inspect.getargspec(target))\n",
      "C:\\Continuum\\Anaconda3\\envs\\tf_gpu\\lib\\site-packages\\tensorflow\\python\\util\\tf_inspect.py:45: DeprecationWarning: inspect.getargspec() is deprecated, use inspect.signature() instead\n",
      "  if d.decorator_argspec is not None), _inspect.getargspec(target))\n",
      "C:\\Continuum\\Anaconda3\\envs\\tf_gpu\\lib\\site-packages\\tensorflow\\python\\util\\tf_inspect.py:45: DeprecationWarning: inspect.getargspec() is deprecated, use inspect.signature() instead\n",
      "  if d.decorator_argspec is not None), _inspect.getargspec(target))\n",
      "C:\\Continuum\\Anaconda3\\envs\\tf_gpu\\lib\\site-packages\\tensorflow\\python\\util\\tf_inspect.py:45: DeprecationWarning: inspect.getargspec() is deprecated, use inspect.signature() instead\n",
      "  if d.decorator_argspec is not None), _inspect.getargspec(target))\n",
      "C:\\Continuum\\Anaconda3\\envs\\tf_gpu\\lib\\site-packages\\tensorflow\\python\\util\\tf_inspect.py:45: DeprecationWarning: inspect.getargspec() is deprecated, use inspect.signature() instead\n",
      "  if d.decorator_argspec is not None), _inspect.getargspec(target))\n",
      "C:\\Continuum\\Anaconda3\\envs\\tf_gpu\\lib\\site-packages\\tensorflow\\python\\util\\tf_inspect.py:45: DeprecationWarning: inspect.getargspec() is deprecated, use inspect.signature() instead\n",
      "  if d.decorator_argspec is not None), _inspect.getargspec(target))\n",
      "C:\\Continuum\\Anaconda3\\envs\\tf_gpu\\lib\\site-packages\\tensorflow\\python\\util\\tf_inspect.py:45: DeprecationWarning: inspect.getargspec() is deprecated, use inspect.signature() instead\n",
      "  if d.decorator_argspec is not None), _inspect.getargspec(target))\n",
      "C:\\Continuum\\Anaconda3\\envs\\tf_gpu\\lib\\site-packages\\tensorflow\\python\\util\\tf_inspect.py:45: DeprecationWarning: inspect.getargspec() is deprecated, use inspect.signature() instead\n",
      "  if d.decorator_argspec is not None), _inspect.getargspec(target))\n",
      "C:\\Continuum\\Anaconda3\\envs\\tf_gpu\\lib\\site-packages\\tensorflow\\python\\util\\tf_inspect.py:45: DeprecationWarning: inspect.getargspec() is deprecated, use inspect.signature() instead\n",
      "  if d.decorator_argspec is not None), _inspect.getargspec(target))\n",
      "C:\\Continuum\\Anaconda3\\envs\\tf_gpu\\lib\\site-packages\\tensorflow\\python\\util\\tf_inspect.py:45: DeprecationWarning: inspect.getargspec() is deprecated, use inspect.signature() instead\n",
      "  if d.decorator_argspec is not None), _inspect.getargspec(target))\n",
      "C:\\Continuum\\Anaconda3\\envs\\tf_gpu\\lib\\site-packages\\tensorflow\\python\\util\\tf_inspect.py:45: DeprecationWarning: inspect.getargspec() is deprecated, use inspect.signature() instead\n",
      "  if d.decorator_argspec is not None), _inspect.getargspec(target))\n",
      "C:\\Continuum\\Anaconda3\\envs\\tf_gpu\\lib\\site-packages\\tensorflow\\python\\util\\tf_inspect.py:45: DeprecationWarning: inspect.getargspec() is deprecated, use inspect.signature() instead\n",
      "  if d.decorator_argspec is not None), _inspect.getargspec(target))\n",
      "C:\\Continuum\\Anaconda3\\envs\\tf_gpu\\lib\\site-packages\\tensorflow\\python\\util\\tf_inspect.py:45: DeprecationWarning: inspect.getargspec() is deprecated, use inspect.signature() instead\n",
      "  if d.decorator_argspec is not None), _inspect.getargspec(target))\n",
      "C:\\Continuum\\Anaconda3\\envs\\tf_gpu\\lib\\site-packages\\tensorflow\\python\\util\\tf_inspect.py:45: DeprecationWarning: inspect.getargspec() is deprecated, use inspect.signature() instead\n",
      "  if d.decorator_argspec is not None), _inspect.getargspec(target))\n",
      "C:\\Continuum\\Anaconda3\\envs\\tf_gpu\\lib\\site-packages\\tensorflow\\python\\util\\tf_inspect.py:45: DeprecationWarning: inspect.getargspec() is deprecated, use inspect.signature() instead\n",
      "  if d.decorator_argspec is not None), _inspect.getargspec(target))\n"
     ]
    }
   ],
   "source": [
    "import xgboost as xgb\n",
    "import pandas as pd\n",
    "import numpy as np\n",
    "import sys\n",
    "sys.path.append('modules')\n",
    "\n",
    "import matplotlib.pyplot as plt\n",
    "\n",
    "from sklearn import preprocessing\n",
    "lbl = preprocessing.LabelEncoder()\n",
    "import tensorflow as tf\n",
    "from sklearn.linear_model import LinearRegression\n",
    "from sklearn.metrics import mean_squared_error\n",
    "from sklearn.preprocessing import StandardScaler, MinMaxScaler\n",
    "from sklearn.grid_search import GridSearchCV\n",
    "from scipy.sparse import csr_matrix, hstack\n",
    "from scipy.stats import iqr\n",
    "from sklearn.cross_validation import KFold, train_test_split\n",
    "from keras.models import Sequential\n",
    "from keras.layers.advanced_activations import PReLU\n",
    "from keras.layers import Dense, Dropout, Activation, BatchNormalization\n",
    "from keras.callbacks import EarlyStopping\n",
    "from xgboost import XGBRegressor\n",
    "\n",
    "%matplotlib inline"
   ]
  },
  {
   "cell_type": "code",
   "execution_count": 2,
   "metadata": {},
   "outputs": [
    {
     "name": "stdout",
     "output_type": "stream",
     "text": [
      "Test data set has (7662, 208) samples\n",
      "Train data set has (21083, 208) features & (21083,) labels\n",
      "Test data set has (9036, 208) features & (9036,) labels\n"
     ]
    }
   ],
   "source": [
    "# XGBOOST model\n",
    "\n",
    "train_xgb = pd.read_csv(\"input/train_fe.csv\")\n",
    "test_xgb = pd.read_csv('input/test_fe.csv')\n",
    "\n",
    "final_test_xgb_id_test = test_xgb['id']\n",
    "\n",
    "#Preparing test data\n",
    "for col in test_xgb.columns:\n",
    "    if test_xgb[col].dtype == 'object':\n",
    "        \n",
    "        lbl.fit(test_xgb[col].values)\n",
    "        test_xgb[col] = lbl.transform(test_xgb[col].values)\n",
    "   # else:\n",
    "        #test_xgb[col] = test_xgb[col]\n",
    "            \n",
    "        \n",
    "final_test_xgb_X = test_xgb.drop(['id', 'timestamp'], axis=1)\n",
    "\n",
    "#Show the results \n",
    "print(\"Test data set has {} samples\".format(final_test_xgb_X.shape))\n",
    "\n",
    "\n",
    "# Data preprocessing and creating of test-train split of Train DATA\n",
    "for col in train_xgb.columns:\n",
    "    if train_xgb[col].dtype == 'object':\n",
    "        lbl.fit(train_xgb[col].values)\n",
    "        train_xgb[col] = lbl.transform(train_xgb[col].values)\n",
    "        \n",
    "# Training data test-train set preparation \n",
    "train_xgb_y = train_xgb['price_doc']\n",
    "train_xgb_X = train_xgb.drop(['id', 'timestamp','price_doc'],axis=1)\n",
    "\n",
    "train_xgb_y = np.array(train_xgb_y)\n",
    "train_xgb_X = np.array(train_xgb_X)\n",
    "# test-train splitting\n",
    "xgb_train_X, xgb_test_X, xgb_train_y, xgb_test_y = train_test_split(train_xgb_X, train_xgb_y, test_size=0.3, random_state=0)\n",
    "#Show the results\n",
    "print(\"Train data set has {} features & {} labels\".format(xgb_train_X.shape,xgb_train_y.shape ))   \n",
    "print(\"Test data set has {} features & {} labels\".format(xgb_test_X.shape,xgb_test_y.shape ))   "
   ]
  },
  {
   "cell_type": "code",
   "execution_count": 3,
   "metadata": {
    "collapsed": true
   },
   "outputs": [],
   "source": [
    "# NN model\n",
    "\n",
    "# importing train_mlp and test_mlp datasets\n",
    "train_mlp=pd.read_csv(\"input/train_fe.csv\")\n",
    "test_mlp=pd.read_csv(\"input/test_fe.csv\")"
   ]
  },
  {
   "cell_type": "code",
   "execution_count": 4,
   "metadata": {},
   "outputs": [
    {
     "name": "stdout",
     "output_type": "stream",
     "text": [
      "Test data set has (7662, 353) samples\n",
      "Train data set has (21083, 353) features & (21083,) labels\n",
      "Test data set has (9036, 353) features & (9036,) labels\n"
     ]
    }
   ],
   "source": [
    "cols = train_mlp.columns\n",
    "train_mlp.shape, test_mlp.shape\n",
    "\n",
    "# marking train_mlp and test_mlp sets\n",
    "n=train_mlp.shape[0]\n",
    "train_mlp['data_set']=1\n",
    "test_mlp['data_set']=0\n",
    "test_mlp.price_doc=np.nan\n",
    "\n",
    "final_test_mlp_id_test=test_mlp['id']\n",
    "\n",
    "#logarithmic transformation of target did not better results\n",
    "train_mlp.price_doc=(train_mlp.price_doc)\n",
    "target_mlp=train_mlp.price_doc\n",
    "train_mlp=train_mlp.append(test_mlp)\n",
    "train_mlp.drop(['id'],axis=1,inplace=True)\n",
    "\n",
    "# listing down binary features\n",
    "binary=[]\n",
    "for i in train_mlp:\n",
    "    if train_mlp[i].dtypes=='object':\n",
    "        #print(train_mlp[i].value_counts())\n",
    "        if train_mlp[i].value_counts().shape[0]==2:\n",
    "            binary.append(i)\n",
    "\n",
    "# converting categorical varibales and handling missing data \n",
    "for i in binary:\n",
    "    train_mlp[i]=pd.factorize(train_mlp[i])[0]\n",
    "'''train_mlp.loc[train_mlp['ecology']=='no data','ecology_dat']=0\n",
    "train_mlp.loc[train_mlp['ecology']!='no data','ecology_dat']=1\n",
    "train_mlp.loc[train_mlp['ecology']=='no data','ecology']=np.nan\n",
    "train_mlp.loc[train_mlp['ecology']=='poor','ecology']=1\n",
    "train_mlp.loc[train_mlp['ecology']=='satisfactory','ecology']=2\n",
    "train_mlp.loc[train_mlp['ecology']=='good','ecology']=3\n",
    "train_mlp.loc[train_mlp['ecology']=='excellent','ecology']=4\n",
    "train_mlp.ecology=pd.to_numeric(train_mlp.ecology)'''\n",
    "train_mlp=pd.concat([train_mlp,pd.get_dummies(train_mlp.sub_area)],axis=1)\n",
    "\n",
    "a=train_mlp.describe()\n",
    "for i in a:\n",
    "    train_mlp[i]=train_mlp[i].fillna((a.loc['min',i]-a.loc['max',i]*2))\n",
    "    \n",
    "train_mlp.drop(['timestamp','sub_area'],inplace=True,axis=1)\n",
    "\n",
    "#from sklearn.preprocessing import MinMaxScaler\n",
    "scaler = MinMaxScaler()\n",
    "cols=train_mlp.columns.tolist()\n",
    "\n",
    "train_mlp = pd.DataFrame(scaler.fit_transform(train_mlp), columns=cols)\n",
    "\n",
    "# separating train_mlp and test_mlp after preprocessing\n",
    "\n",
    "test_mlp=train_mlp[train_mlp['data_set']==0]\n",
    "train_mlp=train_mlp[train_mlp['data_set']==1]\n",
    "\n",
    "test_mlp.drop(['data_set','price_doc',],inplace=True,axis=1)\n",
    "train_mlp.drop(['data_set','price_doc'],inplace=True,axis=1)\n",
    "\n",
    "final_test_mlp_X = test_mlp\n",
    "print(\"Test data set has {} samples\".format(final_test_mlp_X.shape))\n",
    "\n",
    "train_mlp = np.array(train_mlp)\n",
    "target_mlp = np.array(target_mlp)\n",
    "\n",
    "# test-train splitting\n",
    "mlp_train_X, mlp_test_X, mlp_train_y, mlp_test_y = train_test_split(train_mlp, target_mlp, test_size=0.3, random_state=0)\n",
    "#Show the results\n",
    "print(\"Train data set has {} features & {} labels\".format(mlp_train_X.shape,mlp_train_y.shape ))   \n",
    "print(\"Test data set has {} features & {} labels\".format(mlp_test_X.shape,mlp_test_y.shape )) "
   ]
  },
  {
   "cell_type": "markdown",
   "metadata": {},
   "source": [
    "### Preparing the L0-models"
   ]
  },
  {
   "cell_type": "code",
   "execution_count": 5,
   "metadata": {
    "collapsed": true
   },
   "outputs": [],
   "source": [
    "reg_xgb = xgb.XGBRegressor(num_boost_round=100,\n",
    "                           eta=0.1,\n",
    "                           eval_metric='rmse',\n",
    "                           objective='reg:linear',\n",
    "                           seed=0,\n",
    "                           gamma=0,\n",
    "                           max_depth=8,\n",
    "                           min_child_weight=6,\n",
    "                           colsample_bytree=0.6,\n",
    "                           subsample=0.9)\n"
   ]
  },
  {
   "cell_type": "code",
   "execution_count": 6,
   "metadata": {},
   "outputs": [
    {
     "name": "stdout",
     "output_type": "stream",
     "text": [
      "Wall time: 43.6 s\n"
     ]
    }
   ],
   "source": [
    "%%time\n",
    "# XGBoost\n",
    "\n",
    "folds = KFold(len(xgb_train_y), shuffle=False, n_folds=3)\n",
    "\n",
    "for k, (train_index, test_index) in enumerate(folds):\n",
    "    xtr = xgb_train_X[train_index]\n",
    "    ytr = xgb_train_y[train_index]\n",
    "    xte, yte = xgb_train_X[test_index], xgb_train_y[test_index]\n",
    "\n",
    "    reg_xgb.fit(xtr, ytr)\n",
    "    np.savetxt('ensemble/xgb_pred_fold_{}.txt'.format(k), (reg_xgb.predict(xte)))\n",
    "    np.savetxt('ensemble/xgb_test_fold_{}.txt'.format(k), yte)"
   ]
  },
  {
   "cell_type": "code",
   "execution_count": 7,
   "metadata": {
    "collapsed": true
   },
   "outputs": [],
   "source": [
    "def mlp_model():\n",
    "    model = Sequential()\n",
    "    model.add(Dense(128, input_dim = mlp_train_X.shape[1],init='normal' ))\n",
    "    model.add(BatchNormalization())\n",
    "    model.add(Activation('relu'))\n",
    "    model.add(Dropout(0.1))\n",
    "\n",
    "    model.add(Dense(64))\n",
    "    model.add(Activation('relu'))\n",
    "    model.add(Dropout(0.1))\n",
    "    model.add(Dense(1))\n",
    "    # Compile Model\n",
    "    model.compile(loss = 'mean_squared_error', optimizer = 'adam')\n",
    "    return model"
   ]
  },
  {
   "cell_type": "code",
   "execution_count": 8,
   "metadata": {},
   "outputs": [
    {
     "name": "stderr",
     "output_type": "stream",
     "text": [
      "C:\\Continuum\\Anaconda3\\envs\\tf_gpu\\lib\\site-packages\\ipykernel_launcher.py:3: UserWarning: Update your `Dense` call to the Keras 2 API: `Dense(128, kernel_initializer=\"normal\", input_dim=353)`\n",
      "  This is separate from the ipykernel package so we can avoid doing imports until\n"
     ]
    },
    {
     "name": "stdout",
     "output_type": "stream",
     "text": [
      "Wall time: 15min 16s\n"
     ]
    }
   ],
   "source": [
    "%%time\n",
    "# MLP\n",
    "\n",
    "folds = KFold(len(mlp_train_y), shuffle=False, n_folds=3)\n",
    "\n",
    "for k, (train_index, test_index) in enumerate(folds):\n",
    "    xtr = mlp_train_X [train_index]\n",
    "    ytr = mlp_train_y[train_index]\n",
    "    xte, yte = mlp_train_X[test_index], mlp_train_y[test_index]\n",
    "    \n",
    "    reg_mlp = mlp_model()\n",
    "    fit = reg_mlp.fit(xtr, ytr, batch_size=32, epochs=100, verbose=0)\n",
    "    pred = reg_mlp.predict(xte, batch_size=32)\n",
    "    np.savetxt('ensemble/mlp_pred_fold_{}.txt'.format(k), pred)\n",
    "    np.savetxt('ensemble/mlp_test_fold_{}.txt'.format(k), yte)"
   ]
  },
  {
   "cell_type": "markdown",
   "metadata": {},
   "source": [
    "### Training on the whole dataset\n",
    "\n",
    "<p> We train the same models on the whole training set (xgb_train_X, mlp_train_X and corresponding labels xgb_train_y, mlp_train_y) and generate predictions for the test set (xgb_test_X, mlp_test_X). <br>It is important to note that we do have labels for the test set, but we don't allow our L0-model see them instead it uses from the one of the 3 folds from the training set .\n",
    "<p/>"
   ]
  },
  {
   "cell_type": "code",
   "execution_count": 9,
   "metadata": {},
   "outputs": [
    {
     "name": "stdout",
     "output_type": "stream",
     "text": [
      "Wall time: 21.6 s\n"
     ]
    }
   ],
   "source": [
    "%%time\n",
    "# XGBoost on whole set and predicted using test set\n",
    "\n",
    "reg_xgb.fit(xgb_train_X, xgb_train_y)\n",
    "pred_xgb = reg_xgb.predict(xgb_test_X)\n",
    "np.savetxt('ensemble/xgb_pred_test.txt'.format(k), pred_xgb)"
   ]
  },
  {
   "cell_type": "code",
   "execution_count": 10,
   "metadata": {},
   "outputs": [
    {
     "name": "stderr",
     "output_type": "stream",
     "text": [
      "C:\\Continuum\\Anaconda3\\envs\\tf_gpu\\lib\\site-packages\\ipykernel_launcher.py:3: UserWarning: Update your `Dense` call to the Keras 2 API: `Dense(128, kernel_initializer=\"normal\", input_dim=353)`\n",
      "  This is separate from the ipykernel package so we can avoid doing imports until\n"
     ]
    },
    {
     "name": "stdout",
     "output_type": "stream",
     "text": [
      "Wall time: 7min 50s\n"
     ]
    }
   ],
   "source": [
    "%%time\n",
    "#MLP on whole set and predicted using test set\n",
    "\n",
    "reg_mlp = mlp_model()\n",
    "fit = reg_mlp.fit(mlp_train_X, mlp_train_y, batch_size=32, epochs=100, verbose=0)\n",
    "pred_mlp = reg_mlp.predict(mlp_test_X, batch_size=32)\n",
    "np.savetxt('ensemble/mlp_pred_test.txt'.format(k), pred_mlp)"
   ]
  },
  {
   "cell_type": "markdown",
   "metadata": {},
   "source": [
    "### L1-model training\n",
    "\n",
    "<p>When the previous stage is completed, we have generated out-of-fold and test set predictions, which we can now use to train the stacker.<br/>Firstly, Loading out-of-fold predictions:<p/>"
   ]
  },
  {
   "cell_type": "code",
   "execution_count": 11,
   "metadata": {
    "collapsed": true
   },
   "outputs": [],
   "source": [
    "train_xgb1 = np.loadtxt('ensemble/xgb_pred_fold_0.txt')\n",
    "train_xgb2 = np.loadtxt('ensemble/xgb_pred_fold_1.txt')\n",
    "train_xgb3 = np.loadtxt('ensemble/xgb_pred_fold_2.txt')\n",
    "\n",
    "train_mlp1 = np.loadtxt('ensemble/mlp_pred_fold_0.txt')\n",
    "train_mlp2 = np.loadtxt('ensemble/mlp_pred_fold_1.txt')\n",
    "train_mlp3 = np.loadtxt('ensemble/mlp_pred_fold_2.txt')"
   ]
  },
  {
   "cell_type": "markdown",
   "metadata": {},
   "source": [
    "#### Sanity Check\n",
    "\n",
    "<p>Checking if the stacked out-of-fold predictions are within the relavent limits.<p/>"
   ]
  },
  {
   "cell_type": "code",
   "execution_count": 12,
   "metadata": {
    "collapsed": true
   },
   "outputs": [],
   "source": [
    "# combing the out-of-fold predictions\n",
    "\n",
    "train_xgb_folds = np.hstack((train_xgb1,train_xgb2,train_xgb3))\n",
    "train_mlp_folds = np.hstack((train_mlp1,train_mlp2,train_mlp3))"
   ]
  },
  {
   "cell_type": "code",
   "execution_count": 13,
   "metadata": {},
   "outputs": [
    {
     "data": {
      "text/plain": [
       "2263499.0271548009"
      ]
     },
     "execution_count": 13,
     "metadata": {},
     "output_type": "execute_result"
    }
   ],
   "source": [
    "# MSE of XGBoost combined predictions\n",
    "\n",
    "mean_squared_error(xgb_train_y, train_xgb_folds)**0.5"
   ]
  },
  {
   "cell_type": "code",
   "execution_count": 14,
   "metadata": {},
   "outputs": [
    {
     "data": {
      "text/plain": [
       "2525483.1708675493"
      ]
     },
     "execution_count": 14,
     "metadata": {},
     "output_type": "execute_result"
    }
   ],
   "source": [
    "# MSE of MLP combined predictions\n",
    "\n",
    "mean_squared_error(mlp_train_y, train_mlp_folds)**0.5"
   ]
  },
  {
   "cell_type": "markdown",
   "metadata": {},
   "source": [
    "<p>Both the above predictions for the combined out-of-fold predictions have an error within the expected range.  In order to get a baseline score for the stacker, let's calculate predictions with the entire training set.\n",
    "<p/>"
   ]
  },
  {
   "cell_type": "code",
   "execution_count": 15,
   "metadata": {
    "collapsed": true
   },
   "outputs": [],
   "source": [
    "test_xgb_pred = np.loadtxt('ensemble/xgb_pred_test.txt')\n",
    "test_mlp_pred = np.loadtxt('ensemble/mlp_pred_test.txt')"
   ]
  },
  {
   "cell_type": "code",
   "execution_count": 16,
   "metadata": {},
   "outputs": [
    {
     "name": "stdout",
     "output_type": "stream",
     "text": [
      "Baseline MSE which we need to improve with stacking, XGB: 2238255.3947151075; MLP: 2530067.9384573186.\n"
     ]
    }
   ],
   "source": [
    "mse_xgb_test = mean_squared_error(xgb_test_y, test_xgb_pred)**0.5\n",
    "mse_mlp_test = mean_squared_error(mlp_test_y, test_mlp_pred)**0.5\n",
    "print (\"Baseline MSE which we need to improve with stacking, XGB: {}; MLP: {}.\".format(mse_xgb_test, mse_mlp_test))"
   ]
  },
  {
   "cell_type": "markdown",
   "metadata": {},
   "source": [
    "<p>The predictions from the whole training data sets a baseline score that the stacker should better\n",
    "<p/>"
   ]
  },
  {
   "cell_type": "markdown",
   "metadata": {},
   "source": [
    "### Training L1-model\n",
    "\n",
    "This final step involves combining the L0-models (XGB and MLP). The selection of algorithm is very cruical, a simple regressor is preferable as it reduces the chances of overfitting. Hence, let's select linear regression model."
   ]
  },
  {
   "cell_type": "code",
   "execution_count": 17,
   "metadata": {
    "collapsed": true
   },
   "outputs": [],
   "source": [
    "l1_train_x = np.vstack((train_xgb_folds, train_mlp_folds)).T\n",
    "l1_test_x = np.vstack((test_xgb_pred, test_mlp_pred)).T\n",
    "l1_train_y = mlp_train_y \n",
    "l1_test_y = mlp_test_y"
   ]
  },
  {
   "cell_type": "code",
   "execution_count": 18,
   "metadata": {},
   "outputs": [
    {
     "name": "stdout",
     "output_type": "stream",
     "text": [
      "Xtrain shape: (21083, 2)\n",
      "ytrain shape: (21083,)\n",
      "Xtest shape: (9036, 2)\n",
      "ytest shape: (9036,)\n"
     ]
    }
   ],
   "source": [
    "# dimensions \n",
    "print (\"Xtrain shape:\", l1_train_x.shape)\n",
    "print (\"ytrain shape:\", l1_train_y.shape)\n",
    "print (\"Xtest shape:\", l1_test_x.shape)\n",
    "print (\"ytest shape:\", l1_test_y.shape)"
   ]
  },
  {
   "cell_type": "markdown",
   "metadata": {},
   "source": [
    "http://machinelearningmastery.com/implementing-stacking-scratch-python/\n",
    "<p>We now fit a very basic linear regression and get the predictions for the final test set:</p>"
   ]
  },
  {
   "cell_type": "code",
   "execution_count": 19,
   "metadata": {},
   "outputs": [
    {
     "data": {
      "text/plain": [
       "2232699.5288930475"
      ]
     },
     "execution_count": 19,
     "metadata": {},
     "output_type": "execute_result"
    }
   ],
   "source": [
    "reg = LinearRegression()\n",
    "\n",
    "# Note that normalizing the data in case of linear models is very important\n",
    "reg.fit((l1_train_x), (l1_train_y))\n",
    "reg_pred = (reg.predict((l1_test_x)))\n",
    "\n",
    "mse_stacker = mean_squared_error(l1_test_y, reg_pred)**0.5\n",
    "mse_stacker"
   ]
  },
  {
   "cell_type": "code",
   "execution_count": 20,
   "metadata": {},
   "outputs": [
    {
     "name": "stdout",
     "output_type": "stream",
     "text": [
      "MAE for XGB: 2238255.39472\n",
      "MAE for MLP: 2530067.93846\n",
      "MAE for stacker: 2232699.52889\n"
     ]
    }
   ],
   "source": [
    "print (\"MAE for XGB:\", mse_xgb_test)\n",
    "print (\"MAE for MLP:\", mse_mlp_test)\n",
    "print (\"MAE for stacker:\", mse_stacker)"
   ]
  },
  {
   "cell_type": "code",
   "execution_count": 21,
   "metadata": {},
   "outputs": [
    {
     "data": {
      "text/plain": [
       "array([ 0.82578044,  0.20931594])"
      ]
     },
     "execution_count": 21,
     "metadata": {},
     "output_type": "execute_result"
    }
   ],
   "source": [
    "reg.coef_"
   ]
  },
  {
   "cell_type": "markdown",
   "metadata": {},
   "source": [
    "<p>The regression coefficient indicates the final prediction is a linear combination of XGB and MLP models and has following relationship:\n",
    " ### `Final_Prediction = 0.82*XGB_Pred + 0.20*MLP_Pred` \n",
    "<p>\n"
   ]
  },
  {
   "cell_type": "markdown",
   "metadata": {},
   "source": [
    "The final ensemble model has CV error of 2233247.32635, that is best score achived compared to the individual models used in the ensemble."
   ]
  },
  {
   "cell_type": "markdown",
   "metadata": {},
   "source": [
    "## Final Predictions for Submission"
   ]
  },
  {
   "cell_type": "code",
   "execution_count": 22,
   "metadata": {},
   "outputs": [
    {
     "data": {
      "text/plain": [
       "((7662, 353), (7662, 208))"
      ]
     },
     "execution_count": 22,
     "metadata": {},
     "output_type": "execute_result"
    }
   ],
   "source": [
    "final_test_mlp_X.shape, final_test_xgb_X.shape"
   ]
  },
  {
   "cell_type": "code",
   "execution_count": 23,
   "metadata": {},
   "outputs": [
    {
     "data": {
      "text/plain": [
       "(7662,)"
      ]
     },
     "execution_count": 23,
     "metadata": {},
     "output_type": "execute_result"
    }
   ],
   "source": [
    "# xgb predictions\n",
    "final_xgb_pred_y = reg_xgb.predict(np.array(final_test_xgb_X))\n",
    "final_xgb_pred_y.shape"
   ]
  },
  {
   "cell_type": "code",
   "execution_count": 24,
   "metadata": {},
   "outputs": [
    {
     "data": {
      "text/plain": [
       "((7662, 1), (7662,))"
      ]
     },
     "execution_count": 24,
     "metadata": {},
     "output_type": "execute_result"
    }
   ],
   "source": [
    "# mlp predictions\n",
    "\n",
    "final_mlp_pred_y=reg_mlp.predict(final_test_mlp_X.as_matrix(), batch_size=32, verbose=0)\n",
    "final_mlp_pred_y_rs = np.reshape(final_mlp_pred_y, final_mlp_pred_y.shape[0])\n",
    "final_mlp_pred_y.shape, final_mlp_pred_y_rs.shape"
   ]
  },
  {
   "cell_type": "code",
   "execution_count": 25,
   "metadata": {
    "collapsed": true
   },
   "outputs": [],
   "source": [
    "A = 0.82578044\n",
    "B = 0.20931594\n",
    "\n",
    "final_stacker_pred_y = A*final_xgb_pred_y +  B* final_mlp_pred_y_rs"
   ]
  },
  {
   "cell_type": "code",
   "execution_count": 26,
   "metadata": {
    "collapsed": true
   },
   "outputs": [],
   "source": [
    "subs=pd.DataFrame({'id':final_test_mlp_id_test.as_matrix(),'price_doc':final_stacker_pred_y})\n",
    "subs.head()\n",
    "subs.to_csv(\"output/final_stacker_pred_20170819.csv\",index=False)"
   ]
  },
  {
   "cell_type": "markdown",
   "metadata": {
    "collapsed": true
   },
   "source": [
    "The final submission gave score of 0.32622, this the best score achieved compared to all the indidual models."
   ]
  },
  {
   "cell_type": "code",
   "execution_count": null,
   "metadata": {
    "collapsed": true
   },
   "outputs": [],
   "source": []
  }
 ],
 "metadata": {
  "kernelspec": {
   "display_name": "Python 3",
   "language": "python",
   "name": "python3"
  },
  "language_info": {
   "codemirror_mode": {
    "name": "ipython",
    "version": 3
   },
   "file_extension": ".py",
   "mimetype": "text/x-python",
   "name": "python",
   "nbconvert_exporter": "python",
   "pygments_lexer": "ipython3",
   "version": "3.5.3"
  }
 },
 "nbformat": 4,
 "nbformat_minor": 2
}
